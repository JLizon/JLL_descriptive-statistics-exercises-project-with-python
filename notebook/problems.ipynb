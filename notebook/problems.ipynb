{
    "cells": [
        {
            "cell_type": "markdown",
            "id": "ac622319",
            "metadata": {},
            "source": [
                "# Descriptive statistics problems"
            ]
        },
        {
            "cell_type": "markdown",
            "id": "aa8993e4",
            "metadata": {},
            "source": [
                "### Exercise 1"
            ]
        },
        {
            "cell_type": "markdown",
            "id": "5e0ab0d5",
            "metadata": {},
            "source": [
                "We will use Numpy to obtain information to describe statistically.\n",
                "\n",
                "- Generate an array of 100 elements following a normal distribution.\n",
                "- Generate an array of 100 elements following a chi-square distribution with 3 degrees of freedom.\n",
                "- Calculate the main metrics and statistical measures that best describe the two vectors."
            ]
        },
        {
            "cell_type": "code",
            "execution_count": 19,
            "id": "34720ab6",
            "metadata": {},
            "outputs": [
                {
                    "name": "stdout",
                    "output_type": "stream",
                    "text": [
                        " Explain the main metrics in a table:\n",
                        "           Mean     Median      Mode      Range    Variance  \\\n",
                        "arr   50.500000  50.500000  1.000000  99.000000  841.666667   \n",
                        "arr2   3.117219   2.451499  2.575546  13.699431    6.204367   \n",
                        "\n",
                        "      Standard Deviation  \n",
                        "arr            29.011492  \n",
                        "arr2            2.490857  \n"
                    ]
                }
            ],
            "source": [
                "import numpy as np\n",
                "import statistics as stats\n",
                "import pandas as pd\n",
                "\n",
                "\n",
                "#- Generate an array of 100 elements following a normal distribution.\n",
                "arr = np.linspace(1,100,100)\n",
                "\n",
                "#- Generate an array of 100 elements following a chi-square distribution with 3 degrees of freedom.\n",
                "arr2 = np.random.chisquare(3,100)\n",
                "\n",
                "#- Calculate the main metrics and statistical measures that best describe the two vectors.\n",
                "mean = stats.mean(arr)\n",
                "mean_2 = stats.mean(arr2)\n",
                "median = stats.median(arr)\n",
                "median_2 = stats.median(arr2)\n",
                "mode = stats.mode(arr)\n",
                "mode_2 = stats.mode(arr2)\n",
                "range_ = max(arr) - min(arr)\n",
                "range_2 = max(arr2) - min(arr2)\n",
                "variance = stats.variance(arr)\n",
                "variance_2 = stats.variance(arr2)\n",
                "std = stats.stdev(arr)\n",
                "std_2 = stats.stdev(arr2)\n",
                "\n",
                "#- Gerate a table by explain the details of lists.\n",
                "main_metrics = pd.DataFrame()\n",
                "main_metrics['Mean'] = None\n",
                "main_metrics['Median'] = None\n",
                "main_metrics['Mode'] = None\n",
                "main_metrics['Range'] = None\n",
                "main_metrics['Variance'] = None\n",
                "main_metrics['Standard Deviation'] = None\n",
                "main_metrics.loc['arr'] = [mean, median, mode, range_, variance, std]\n",
                "main_metrics.loc['arr2'] = [mean_2, median_2, mode_2, range_2, variance_2, std_2]\n",
                "\n",
                "print(f\" Explain the main metrics in a table:\") \n",
                "print(main_metrics)\n"
            ]
        },
        {
            "cell_type": "markdown",
            "id": "46c70c3d",
            "metadata": {},
            "source": [
                "### Exercise 2\n",
                "\n",
                "Write a Python program to calculate the standard deviation of the following data:\n",
                "\n",
                "```py\n",
                "data = [4, 2, 5, 8, 6]\n",
                "```"
            ]
        },
        {
            "cell_type": "code",
            "execution_count": 24,
            "id": "d590308e",
            "metadata": {},
            "outputs": [
                {
                    "name": "stdout",
                    "output_type": "stream",
                    "text": [
                        "Sample Data: [4, 2, 5, 8, 6]\n",
                        "Standard Deviation: 2.23606797749979\n"
                    ]
                }
            ],
            "source": [
                "data = [4, 2, 5, 8, 6]\n",
                "\n",
                "#Paso 1: calcular la media. \n",
                "#Paso 2: calcular el cuadrado de la distancia a la media para cada dato. \n",
                "#Paso 3: sumar los valores que resultaron del paso 2. \n",
                "#Paso 4: dividir entre el número de datos.\n",
                "\n",
                "import math\n",
                "import sys\n",
                "\n",
                "def sd_calc(data):\n",
                "    n = len(data)\n",
                "\n",
                "    if (n <= 1):\n",
                "        return 0.0\n",
                "\n",
                "    mean, sd = avg_calc(data), 0.0\n",
                "\n",
                "    for d in data:\n",
                "        sd += (float(d) - mean) ** 2\n",
                "    sd = math.sqrt(sd / float(n - 1))\n",
                "\n",
                "    return sd\n",
                "\n",
                "def avg_calc(data):\n",
                "    n, mean = len(data), 0.0\n",
                "\n",
                "    if (n <= 1):\n",
                "        return data[0]\n",
                "\n",
                "    for d in data:\n",
                "        mean = mean + float(d)\n",
                "\n",
                "    mean = mean / float(n)\n",
                "    return mean\n",
                "\n",
                "\n",
                "data = [4, 2, 5, 8, 6]\n",
                "print(f\"Sample Data: {data}\")\n",
                "print(f\"Standard Deviation: {sd_calc(data)}\")\n",
                "\n",
                "\n",
                "\n"
            ]
        }
    ],
    "metadata": {
        "interpreter": {
            "hash": "9248718ffe6ce6938b217e69dbcc175ea21f4c6b28a317e96c05334edae734bb"
        },
        "kernelspec": {
            "display_name": "Python 3.9.12 ('ML-BOOTCAMP')",
            "language": "python",
            "name": "python3"
        },
        "language_info": {
            "codemirror_mode": {
                "name": "ipython",
                "version": 3
            },
            "file_extension": ".py",
            "mimetype": "text/x-python",
            "name": "python",
            "nbconvert_exporter": "python",
            "pygments_lexer": "ipython3",
            "version": "3.11.4"
        }
    },
    "nbformat": 4,
    "nbformat_minor": 5
}
